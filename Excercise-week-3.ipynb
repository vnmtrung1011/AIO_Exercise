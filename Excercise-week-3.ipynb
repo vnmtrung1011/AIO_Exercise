{
  "nbformat": 4,
  "nbformat_minor": 0,
  "metadata": {
    "colab": {
      "provenance": [],
      "gpuType": "T4"
    },
    "kernelspec": {
      "name": "python3",
      "display_name": "Python 3"
    },
    "language_info": {
      "name": "python"
    },
    "accelerator": "GPU"
  },
  "cells": [
    {
      "cell_type": "code",
      "source": [
        "import torch\n",
        "import torch.nn as nn\n",
        "\n",
        "class Softmax(nn.Module):\n",
        "  def __init__(self):\n",
        "    super().__init__()\n",
        "\n",
        "  def forward(self, x):\n",
        "    x_exp = torch.exp(x)\n",
        "    sum_x_exp = torch.sum(x_exp)\n",
        "    return x_exp/sum_x_exp\n",
        "\n",
        "class SoftmaxStable(nn.Module):\n",
        "  def __init__(self):\n",
        "    super().__init__()\n",
        "\n",
        "  def forward(self, x):\n",
        "    x_max = torch.max(x)\n",
        "    x_exp = torch.exp(x - x_max)\n",
        "    sum_x_exp = torch.sum(x_exp)\n",
        "    return x_exp / sum_x_exp\n",
        "\n",
        "\n",
        "\n"
      ],
      "metadata": {
        "id": "MABBT0nIsMze"
      },
      "execution_count": 2,
      "outputs": []
    },
    {
      "cell_type": "code",
      "source": [
        "data = torch.Tensor([1,2,3])\n",
        "softmax = Softmax()\n",
        "output = softmax(data)\n",
        "print(output)\n",
        "\n",
        "data = torch.Tensor([1,2,300000000])\n",
        "softmax_stable = SoftmaxStable ()\n",
        "output2 = softmax_stable(data)\n",
        "print(output2)"
      ],
      "metadata": {
        "colab": {
          "base_uri": "https://localhost:8080/"
        },
        "id": "nKclKEHH_HH7",
        "outputId": "e43dd440-d73e-48bd-d972-f00cf1436219"
      },
      "execution_count": 7,
      "outputs": [
        {
          "output_type": "stream",
          "name": "stdout",
          "text": [
            "tensor([0.0900, 0.2447, 0.6652])\n",
            "tensor([0., 0., 1.])\n"
          ]
        }
      ]
    },
    {
      "cell_type": "code",
      "source": [
        "# 2. Một Ward (phường) gồm có name (string) và danh sách của mọi người trong Ward.\n",
        "# Một người person có thể là student, doctor, hoặc teacher. Một student gồm có name,\n",
        "# yob (int) (năm sinh), và grade (string). Một teacher gồm có name, yob, và subject\n",
        "# (string). Một doctor gồm có name, yob, và specialist (string). Lưu ý cần sử dụng a\n",
        "# list để chứa danh sách của mọi người trong Ward.\n",
        "\n",
        "from abc import ABC, abstractmethod\n",
        "\n",
        "\n",
        "class Person(ABC):\n",
        "  def __init__(self, name, yob):\n",
        "    self._name = name\n",
        "    self._yob = yob\n",
        "\n",
        "  @abstractmethod\n",
        "  def describe(self):\n",
        "    pass\n",
        "\n",
        "class Student(Person):\n",
        "  def __init__(self, name, yob, grade):\n",
        "    super().__init__(name, yob)\n",
        "    self.__grade = grade\n",
        "\n",
        "  def describe(self):\n",
        "    print(f'Student name: {self._name} - Yob: {self._yob} - Grade: {self.__grade}')\n",
        "\n",
        "class Doctor(Person):\n",
        "  def __init__(self, name, yob, specialist):\n",
        "    super().__init__(name, yob)\n",
        "    self.__specialist = specialist\n",
        "\n",
        "  def describe(self):\n",
        "    print(f'Doctor name: {self._name} - Yob: {self._yob} - Specialist: {self.__specialist}')\n",
        "\n",
        "class Teacher(Person):\n",
        "  def __init__(self, name, yob, subject):\n",
        "    super().__init__(name, yob)\n",
        "    self.__subject = subject\n",
        "\n",
        "  def describe(self):\n",
        "    print(f'Teacher name: {self._name} - Yob: {self._yob} - Subject: {self.__subject}')\n",
        "\n",
        "class Ward():\n",
        "  def __init__(self, name):\n",
        "    self.__name = name\n",
        "    self.people = []\n",
        "\n",
        "  def add_person(self, person):\n",
        "   self.people.append(person)\n",
        "\n",
        "  def describe(self):\n",
        "    for person in self.people:\n",
        "      person.describe()\n",
        "\n",
        "  def count_doctor(self):\n",
        "    return print(f'Number of Doctor : {sum( isinstance(person, Doctor) for person in self.people)} ')\n",
        "\n",
        "  def sort_age(self):\n",
        "    self.people.sort(key=lambda x: x._yob, reverse=False)\n",
        "\n",
        "  def compute_average(self):\n",
        "    teachers = [person for person in self.people if isinstance(person, Teacher)]\n",
        "    if not teachers:\n",
        "      print(f'Do not have teacher in ward')\n",
        "    else:\n",
        "      return sum(person._yob for person in teachers)/len(teachers)\n",
        "\n"
      ],
      "metadata": {
        "id": "cLg17DS7sM_l"
      },
      "execution_count": null,
      "outputs": []
    },
    {
      "cell_type": "markdown",
      "source": [],
      "metadata": {
        "id": "Hyhqj1r493YD"
      }
    },
    {
      "cell_type": "code",
      "source": [
        "student1 = Student(name =\"studentA\", yob =2010 , grade =\"7\")\n",
        "student1.describe()\n",
        "teacher1 = Teacher(name =\"teacherA\", yob =1969 , subject =\"Math\")\n",
        "teacher1.describe()\n",
        "doctor1 = Doctor(name =\"doctorA\", yob =1945 , specialist =\"Endocrinologists\")\n",
        "doctor1.describe()\n",
        "print('\\n')\n",
        "teacher2 = Teacher(name =\"teacherB\", yob =1995 , subject =\"History\")\n",
        "doctor2 = Doctor(name =\"doctorB\", yob =1975 , specialist =\"Cardiologists\")\n",
        "ward1 = Ward(name =\"Ward1\")\n",
        "ward1.add_person(student1)\n",
        "ward1.add_person(teacher1)\n",
        "ward1.add_person(teacher2)\n",
        "ward1.add_person(doctor1)\n",
        "ward1.add_person(doctor2)\n",
        "ward1.describe()\n",
        "print('\\n')\n",
        "ward1.sort_age()\n",
        "ward1.describe()\n",
        "print('\\n')\n",
        "print ( f\"\\ nAverage year of birth (teachers): { ward1.compute_average()}\")\n"
      ],
      "metadata": {
        "colab": {
          "base_uri": "https://localhost:8080/"
        },
        "id": "72-tAGa9sNLG",
        "outputId": "8081c080-c3c5-420a-b77a-c2c01e6958ba"
      },
      "execution_count": null,
      "outputs": [
        {
          "output_type": "stream",
          "name": "stdout",
          "text": [
            "Student name: studentA - Yob: 2010 - Grade: 7\n",
            "Teacher name: teacherA - Yob: 1969 - Subject: Math\n",
            "Doctor name: doctorA - Yob: 1945 - Specialist: Endocrinologists\n",
            "\n",
            "\n",
            "Student name: studentA - Yob: 2010 - Grade: 7\n",
            "Teacher name: teacherA - Yob: 1969 - Subject: Math\n",
            "Teacher name: teacherB - Yob: 1995 - Subject: History\n",
            "Doctor name: doctorA - Yob: 1945 - Specialist: Endocrinologists\n",
            "Doctor name: doctorB - Yob: 1975 - Specialist: Cardiologists\n",
            "\n",
            "\n",
            "Doctor name: doctorA - Yob: 1945 - Specialist: Endocrinologists\n",
            "Teacher name: teacherA - Yob: 1969 - Subject: Math\n",
            "Doctor name: doctorB - Yob: 1975 - Specialist: Cardiologists\n",
            "Teacher name: teacherB - Yob: 1995 - Subject: History\n",
            "Student name: studentA - Yob: 2010 - Grade: 7\n",
            "\n",
            "\n",
            "\\ nAverage year of birth (teachers): 1982.0\n"
          ]
        }
      ]
    },
    {
      "cell_type": "code",
      "source": [
        "# 3. Thực hiện xây dựng class Stack với các phương thức (method) sau đây\n",
        "\n",
        "class MyStack:\n",
        "  def __init__(self, capacity):\n",
        "    self.__capacity = capacity\n",
        "    self.__item = []\n",
        "\n",
        "  def is_empty(self):\n",
        "    return len(self.__item) == 0\n",
        "\n",
        "  def is_full(self):\n",
        "\n",
        "    return len(self.__item) == self.__capacity\n",
        "\n",
        "  def push(self, item):\n",
        "    if self.is_full():\n",
        "      print(f'capacity is full')\n",
        "    else:\n",
        "      self.__item.append(item)\n",
        "\n",
        "  def pop(self):\n",
        "    if self.is_empty():\n",
        "      print(f'capacity is full')\n",
        "    else:\n",
        "      return self.__item.pop()\n",
        "\n",
        "  def top(self):\n",
        "    if self.is_empty():\n",
        "      return None\n",
        "    else:\n",
        "      return self.__item[0]\n",
        "\n"
      ],
      "metadata": {
        "id": "qYqahAGQsNRB"
      },
      "execution_count": null,
      "outputs": []
    },
    {
      "cell_type": "code",
      "source": [
        "# 4. Thực hiện xây dựng class Queue với các phương thức (method) sau đây\n",
        "\n",
        "class MyQueue:\n",
        "  def __init__(self, capacity):\n",
        "    self.__capacity = capacity\n",
        "    self.__item = []\n",
        "\n",
        "  def is_empty(self):\n",
        "    return len(self.__item) == 0\n",
        "\n",
        "  def is_full(self):\n",
        "\n",
        "    return len(self.__item) == self.__capacity\n",
        "\n",
        "  def enqueue(self, item):\n",
        "    if self.is_full():\n",
        "      print(f'capacity is full')\n",
        "    else:\n",
        "      self.__item.append(item)\n",
        "\n",
        "  def dequeue(self):\n",
        "    if self.is_empty():\n",
        "      print(f'capacity is full')\n",
        "    else:\n",
        "      return self.__item.pop(0)\n",
        "\n",
        "  def front(self):\n",
        "    if self.is_empty():\n",
        "      return None\n",
        "    else:\n",
        "      return self.__item[0]"
      ],
      "metadata": {
        "id": "Le_oYr4VsNXt"
      },
      "execution_count": null,
      "outputs": []
    },
    {
      "cell_type": "code",
      "source": [],
      "metadata": {
        "id": "baZpZGDTsNg_"
      },
      "execution_count": null,
      "outputs": []
    },
    {
      "cell_type": "code",
      "source": [],
      "metadata": {
        "id": "LDHsypZcsNmV"
      },
      "execution_count": null,
      "outputs": []
    }
  ]
}