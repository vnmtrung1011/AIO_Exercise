{
  "nbformat": 4,
  "nbformat_minor": 0,
  "metadata": {
    "colab": {
      "provenance": []
    },
    "kernelspec": {
      "name": "python3",
      "display_name": "Python 3"
    },
    "language_info": {
      "name": "python"
    }
  },
  "cells": [
    {
      "cell_type": "markdown",
      "source": [
        "# 1. Các phép toán trên vector và ma trận."
      ],
      "metadata": {
        "id": "KD3k_HfXaJr-"
      }
    },
    {
      "cell_type": "code",
      "source": [
        "import numpy as np"
      ],
      "metadata": {
        "id": "NhVf5Yvtab1z"
      },
      "execution_count": null,
      "outputs": []
    },
    {
      "cell_type": "markdown",
      "source": [
        "(a) Độ dài của vector:"
      ],
      "metadata": {
        "id": "CsbO_4qZaQ7z"
      }
    },
    {
      "cell_type": "code",
      "source": [
        "\n",
        "def compute_vector_length ( vector ) :\n",
        "  # norm = np.linalg.norm(vector)\n",
        "  norm = np.sqrt(np.sum([v**2 for v in vector]))\n",
        "  return norm"
      ],
      "metadata": {
        "id": "rizdUIkkaTS8"
      },
      "execution_count": null,
      "outputs": []
    },
    {
      "cell_type": "markdown",
      "source": [
        "(b) Phép tích vô hướng:"
      ],
      "metadata": {
        "id": "VtEoCIX-c248"
      }
    },
    {
      "cell_type": "code",
      "source": [
        "def compute_dot_vector_vector ( vector1 , vector2 ) :\n",
        "  result = np.dot(vector1, vector2)\n",
        "  return result\n"
      ],
      "metadata": {
        "id": "gApoILorc6p3"
      },
      "execution_count": null,
      "outputs": []
    },
    {
      "cell_type": "markdown",
      "source": [
        "(c) Nhân vector với ma trận:"
      ],
      "metadata": {
        "id": "kQ-T5KV2eZrA"
      }
    },
    {
      "cell_type": "code",
      "source": [
        "def compute_dot_matrix_vector ( matrix , vector ) :\n",
        "  result = matrix.dot(vector)\n",
        "  return result"
      ],
      "metadata": {
        "id": "cO-xae5QegCA"
      },
      "execution_count": null,
      "outputs": []
    },
    {
      "cell_type": "markdown",
      "source": [
        "(d) Nhân ma trận với ma trận:"
      ],
      "metadata": {
        "id": "8YrzY42qfqSA"
      }
    },
    {
      "cell_type": "code",
      "source": [
        "def compute_dot_matrix_matrix ( matrix1 , matrix2 ) :\n",
        "  result = matrix1 @ matrix2\n",
        "  return result"
      ],
      "metadata": {
        "id": "CpOPwBR5fqzR"
      },
      "execution_count": null,
      "outputs": []
    },
    {
      "cell_type": "markdown",
      "source": [
        "(e) Ma trận nghịch đảo:"
      ],
      "metadata": {
        "id": "Lie4zoW8jfF_"
      }
    },
    {
      "cell_type": "code",
      "source": [
        "def inverse_matrix ( matrix ):\n",
        "  result = np.linalg.inv(matrix)\n",
        "  return result\n"
      ],
      "metadata": {
        "id": "Igf_fZkLjgZF"
      },
      "execution_count": null,
      "outputs": []
    },
    {
      "cell_type": "markdown",
      "source": [
        "# 2. Eigenvector và eigenvalues:"
      ],
      "metadata": {
        "id": "xNT2ykg1k1ou"
      }
    },
    {
      "cell_type": "code",
      "source": [
        "def compute_eigenvalues_eigenvectors ( matrix ) :\n",
        "  eigenvalues, eigenvector = np.linalg.eig(matrix)\n",
        "  return eigenvalues , eigenvector\n"
      ],
      "metadata": {
        "id": "3zkOG7ptk32t"
      },
      "execution_count": null,
      "outputs": []
    },
    {
      "cell_type": "markdown",
      "source": [
        "# 3. Cosine Similarity:"
      ],
      "metadata": {
        "id": "hBWfPeARqm1N"
      }
    },
    {
      "cell_type": "code",
      "source": [
        "def compute_cosine (v1 , v2) :\n",
        "  result = np.dot(v1,v2)/(np.linalg.norm(v1) * np.linalg.norm(v2))\n",
        "  return compute_cosine"
      ],
      "metadata": {
        "id": "NPP0J5lEqnw0"
      },
      "execution_count": null,
      "outputs": []
    },
    {
      "cell_type": "markdown",
      "source": [
        "# 4. Background subtraction (tách nền):"
      ],
      "metadata": {
        "id": "CIumgtOMwOY3"
      }
    },
    {
      "cell_type": "markdown",
      "source": [
        "(a) Resize các ảnh đầu vào về cùng kích thước:"
      ],
      "metadata": {
        "id": "VybXIA8vwtlq"
      }
    },
    {
      "cell_type": "code",
      "source": [
        "import numpy as np\n",
        "from google . colab . patches import cv2_imshow\n",
        "import cv2\n",
        "\n",
        "bg1_image = cv2.imread('GreenBackground.png', 1)\n",
        "bg1_image = cv2.resize( bg1_image , (678 , 381) )\n",
        "\n",
        "ob_image = cv2.imread('Object.png', 1)\n",
        "ob_image = cv2.resize( ob_image , (678 , 381) )\n",
        "\n",
        "bg2_image = cv2.imread('NewBackground.jpg', 1)\n",
        "bg2_image = cv2.resize( bg2_image , (678 , 381) )"
      ],
      "metadata": {
        "id": "5r90loIBwub7"
      },
      "execution_count": null,
      "outputs": []
    },
    {
      "cell_type": "markdown",
      "source": [
        "(b) Xây dựng hàm compute_difference():"
      ],
      "metadata": {
        "id": "2lQ4m3hKyIs2"
      }
    },
    {
      "cell_type": "code",
      "source": [
        "def compute_difference ( bg1_image , ob_image ) :\n",
        "  difference_single_channel = cv2.absdiff(bg1_image, ob_image)\n",
        "  return difference_single_channel\n",
        "\n",
        "difference_single_channel = compute_difference ( bg1_image , ob_image )\n",
        "cv2_imshow(difference_single_channel)"
      ],
      "metadata": {
        "id": "sSkjIfNEyJbA"
      },
      "execution_count": null,
      "outputs": []
    },
    {
      "cell_type": "markdown",
      "source": [
        "(c) Xây dựng hàm compute_binary_mask():"
      ],
      "metadata": {
        "id": "xcu29jfPylbB"
      }
    },
    {
      "cell_type": "code",
      "source": [
        "def compute_binary_mask ( difference_single_channel ) :\n",
        "  difference_binary = np.where(difference_single_channel >= 15, 255, 0 )\n",
        "\n",
        "  return difference_binary\n",
        "\n",
        "binary_mask = compute_binary_mask ( difference_single_channel )\n",
        "cv2_imshow ( binary_mask )"
      ],
      "metadata": {
        "id": "tabNgFTZyon8"
      },
      "execution_count": null,
      "outputs": []
    },
    {
      "cell_type": "markdown",
      "source": [
        "(d) Xây dựng hàm replace_background():"
      ],
      "metadata": {
        "id": "UKj6J2cfy_Vu"
      }
    },
    {
      "cell_type": "code",
      "source": [
        "def replace_background ( bg1_image , bg2_image , ob_image ) :\n",
        "  difference_single_channel = compute_difference (bg1_image , ob_image)\n",
        "  binary_mask = compute_binary_mask ( difference_single_channel )\n",
        "  output = np. where ( binary_mask ==255 , ob_image , bg2_image )\n",
        "  return output"
      ],
      "metadata": {
        "id": "bY07eEfKy-De"
      },
      "execution_count": null,
      "outputs": []
    }
  ]
}