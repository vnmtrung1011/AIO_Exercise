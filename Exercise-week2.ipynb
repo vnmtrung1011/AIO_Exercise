{
  "cells": [
    {
      "cell_type": "code",
      "execution_count": 1,
      "metadata": {
        "colab": {
          "base_uri": "https://localhost:8080/"
        },
        "id": "-tSqM0qsqpAM",
        "outputId": "2eae0ff7-27e1-45dc-96be-58ec0c332ad7"
      },
      "outputs": [
        {
          "name": "stdout",
          "output_type": "stream",
          "text": [
            "[5, 5, 5, 5, 10, 12, 33, 33]\n"
          ]
        }
      ],
      "source": [
        "# 1. Cho một list các số nguyên num_list và một sliding window có kích thước size k di\n",
        "# chuyển từ trái sang phải. Mỗi lần dịch chuyển 1 vị trí sang phải có thể nhìn thấy\n",
        "# đươc k số trong num_list và tìm số lớn nhất trong k số này sau mỗi lần trượt k phải\n",
        "# lớn hơn hoặc bằng 1\n",
        "\n",
        "num_list =  [3 , 4 , 5 , 1 , -44 , 5 ,10 , 12 ,33 , 1]\n",
        "k=3\n",
        "\n",
        "def sliding_window_maximum(num_list, k):\n",
        "    if k > len(num_list):\n",
        "        return []\n",
        "\n",
        "    result = []\n",
        "    for i in range(len(num_list) - k + 1):\n",
        "        # Lấy ra cửa sổ hiện tại\n",
        "        window = num_list[i:i + k]\n",
        "        # Tìm giá trị lớn nhất trong cửa sổ\n",
        "        max_in_window = max(window)\n",
        "        # Thêm giá trị lớn nhất vào kết quả\n",
        "        result.append(max_in_window)\n",
        "    return result\n",
        "\n",
        "print(sliding_window_maximum(num_list, k))"
      ]
    },
    {
      "cell_type": "code",
      "execution_count": 3,
      "metadata": {
        "colab": {
          "base_uri": "https://localhost:8080/"
        },
        "id": "x-GI3FIMqppF",
        "outputId": "cab4418c-4d16-4a39-f183-4993aa076ff2"
      },
      "outputs": [
        {
          "name": "stdout",
          "output_type": "stream",
          "text": [
            "{'’': 1, 'w': 1, 'h': 1, 'o': 1}\n"
          ]
        }
      ],
      "source": [
        "# 2. Thực hiện theo các yêu cầu sau.\n",
        "# Viết function trả về một dictionary đếm số lượng chữ xuất hiện trong một từ, với key là chữ cái\n",
        "# và value là số lần xuất hiện\n",
        "\n",
        "input_string = '’who'\n",
        "dictionary = {}\n",
        "\n",
        "def count_chars(string):\n",
        "  string = string.lower()\n",
        "  for char in string:\n",
        "    if char not in dictionary:\n",
        "      dictionary[char] = string.count(char)\n",
        "  return dictionary\n",
        "\n",
        "print(f'{count_chars(input_string)}')"
      ]
    },
    {
      "cell_type": "code",
      "execution_count": 2,
      "metadata": {
        "colab": {
          "base_uri": "https://localhost:8080/"
        },
        "id": "BCYg4oG5SSH7",
        "outputId": "9bf7ced6-c2ce-4667-a6d6-82557e649efc"
      },
      "outputs": [
        {
          "name": "stdout",
          "output_type": "stream",
          "text": [
            "Downloading...\n",
            "From: https://drive.google.com/uc?id=1IBScGdW2xlNsc9v5zSAya548kNgiOrko\n",
            "To: /content/P1_data.txt\n",
            "100% 747/747 [00:00<00:00, 4.30MB/s]\n",
            "Downloading...\n",
            "From: https://drive.google.com/uc?id=1IBScGdW2xlNsc9v5zSAya548kNgiOrko\n",
            "To: /content/P1_data.txt\n",
            "100% 747/747 [00:00<00:00, 3.96MB/s]\n"
          ]
        }
      ],
      "source": [
        "!gdown https://drive.google.com/uc?id=1IBScGdW2xlNsc9v5zSAya548kNgiOrko\n",
        "\n",
        "\n"
      ]
    },
    {
      "cell_type": "code",
      "execution_count": null,
      "metadata": {
        "colab": {
          "base_uri": "https://localhost:8080/"
        },
        "id": "iJwBf0NvjjUy",
        "outputId": "0d2692ab-f5f8-4613-f823-5867306dc1b6"
      },
      "outputs": [
        {
          "name": "stdout",
          "output_type": "stream",
          "text": [
            "{'a': 7, 'again': 1, 'and': 1, 'are': 1, 'at': 1, 'be': 1, 'become': 2, 'bricks': 1, 'busy': 1, 'but': 1, 'came': 1, 'can': 3, 'cannot': 1, 'change': 1, 'comes': 2, 'conquers': 1, 'courage': 1, 'day': 1, 'different': 1, 'employed': 1, 'enough': 1, 'everything': 1, 'firm': 1, 'for': 3, 'foundation': 1, 'from': 1, 'get': 2, 'have': 1, 'he': 1, 'help': 1, 'him': 1, 'himself': 1, 'his': 2, 'if': 1, 'in': 4, 'is': 3, 'it': 2, 'just': 2, 'kind': 1, 'lay': 1, 'life': 2, 'looking': 1, 'majority': 1, 'makes': 1, 'man': 6, 'mightiest': 1, 'mistakes': 1, 'morning': 1, 'not': 1, 'of': 4, 'one': 4, 'opportunity': 1, 'other': 1, 'others': 1, 'people': 1, 'positive': 1, 'problems': 1, 'profit': 1, 'rather': 1, 'ready': 1, 'secret': 1, 'small': 1, 'solve': 1, 'success': 3, 'successful': 2, 'the': 5, 'them': 1, 'they': 1, 'thinking': 1, 'those': 1, 'thought': 1, 'thrown': 1, 'to': 3, 'too': 1, 'try': 2, 'up': 1, 'usually': 1, 'value': 1, 'want': 2, 'warrior': 1, 'way': 1, 'we': 3, 'what': 1, 'when': 2, 'who': 3, 'whole': 1, 'will': 2, 'with': 4, 'you': 3, 'your': 1}\n"
          ]
        }
      ],
      "source": [
        "# 3. Thực hiện theo các yêu cầu sau.\n",
        "# Viết function đọc các câu trong một file txt, đếm số lượng các từ xuất hiện và trả về một dictionary\n",
        "# với key là từ và value là số lần từ đó xuất hiện.\n",
        "\n",
        "file_path = '/content/P1_data.txt'\n",
        "\n",
        "def word_count(param_file_path):\n",
        "  result = {}\n",
        "  with open(param_file_path, 'r') as file:\n",
        "    lines = file.readlines()\n",
        "    for line in lines:\n",
        "      words = line.lower().strip().split()\n",
        "      for word in words:\n",
        "        if word in result:\n",
        "          result[word] += 1\n",
        "        else:\n",
        "          result[word] = 1\n",
        "\n",
        "  result = dict(sorted(result.items()))\n",
        "  return result\n",
        "\n",
        "print(word_count(file_path))"
      ]
    },
    {
      "cell_type": "code",
      "execution_count": 4,
      "metadata": {
        "colab": {
          "base_uri": "https://localhost:8080/"
        },
        "id": "s_XCbcLeZnqa",
        "outputId": "e619dca5-0902-4f5b-c528-973255747de2"
      },
      "outputs": [
        {
          "name": "stdout",
          "output_type": "stream",
          "text": [
            "3\n"
          ]
        }
      ],
      "source": [
        "def levenshtein_distance(s1, s2):\n",
        "    r, c = len(s1), len(s2)\n",
        "    dp = [[0] * (c + 1) for _ in range(r + 1)]\n",
        "\n",
        "    for i in range(r + 1):\n",
        "        dp[i][0] = i\n",
        "    for j in range(c + 1):\n",
        "        dp[0][j] = j\n",
        "\n",
        "    for i in range(1, r + 1):\n",
        "        for j in range(1, c + 1):\n",
        "            if s1[i - 1] == s2[j - 1]:\n",
        "                dp[i][j] = dp[i - 1][j - 1]\n",
        "            else:\n",
        "                dp[i][j] = 1 + min(dp[i - 1][j],\n",
        "                                   dp[i][j - 1],\n",
        "                                   dp[i - 1][j - 1])\n",
        "\n",
        "    return dp[r][c]\n",
        "\n",
        "s1 = \"hola\"\n",
        "s2 = \"hello\"\n",
        "print(levenshtein_distance(s1, s2))\n"
      ]
    }
  ],
  "metadata": {
    "accelerator": "GPU",
    "colab": {
      "gpuType": "T4",
      "provenance": []
    },
    "kernelspec": {
      "display_name": "Python 3",
      "name": "python3"
    },
    "language_info": {
      "name": "python"
    }
  },
  "nbformat": 4,
  "nbformat_minor": 0
}
