{
  "nbformat": 4,
  "nbformat_minor": 0,
  "metadata": {
    "colab": {
      "provenance": []
    },
    "kernelspec": {
      "name": "python3",
      "display_name": "Python 3"
    },
    "language_info": {
      "name": "python"
    }
  },
  "cells": [
    {
      "cell_type": "code",
      "source": [
        "import numpy as np\n",
        "import matplotlib.image as mpimg\n",
        "import matplotlib.pyplot as plt\n",
        "import pandas as pd"
      ],
      "metadata": {
        "id": "wdGnmEO02fFe"
      },
      "execution_count": 19,
      "outputs": []
    },
    {
      "cell_type": "code",
      "source": [
        "# @title Câu hỏi 12\n",
        "\n",
        "!gdown 1i9dqan21DjQoG5Q_VEvm0LrVwAlXD0vB\n",
        "\n",
        "def color2grayscale(vector):\n",
        "  return np.max(vector)*0.5 + np.min(vector)*0.5\n",
        "\n",
        "img = mpimg.imread('/content/dog.jpeg')\n",
        "gray_img_01 = np.apply_along_axis(color2grayscale, axis=2, arr=img)\n",
        "gray_img_01 [0 , 0]\n",
        "\n",
        "plt.imshow(gray_img_01, cmap=plt.get_cmap('gray'))"
      ],
      "metadata": {
        "id": "PbK3TIhj22rH"
      },
      "execution_count": null,
      "outputs": []
    },
    {
      "cell_type": "code",
      "source": [
        "# @title Câu hỏi 13\n",
        "\n",
        "def color2grayscale(vector):\n",
        "  return np.sum(vector)/3\n",
        "\n",
        "img = mpimg.imread('/content/dog.jpeg')\n",
        "gray_img_01 = np.apply_along_axis(color2grayscale, axis=2, arr=img)\n",
        "gray_img_01 [0 , 0]"
      ],
      "metadata": {
        "colab": {
          "base_uri": "https://localhost:8080/"
        },
        "id": "0yZAzKnO5vhO",
        "outputId": "a316f962-2daf-4e7c-aa46-4388d6c11537"
      },
      "execution_count": 16,
      "outputs": [
        {
          "output_type": "execute_result",
          "data": {
            "text/plain": [
              "107.66666666666667"
            ]
          },
          "metadata": {},
          "execution_count": 16
        }
      ]
    },
    {
      "cell_type": "code",
      "source": [
        "# @title Câu hỏi 14\n",
        "\n",
        "def color2grayscale(vector):\n",
        "  return vector[0]*0.21 + vector[1]*0.72 + vector[2]*0.07\n",
        "img = mpimg.imread('/content/dog.jpeg')\n",
        "gray_img_01 = np.apply_along_axis(color2grayscale, axis=2, arr=img)\n",
        "gray_img_01 [0 , 0]"
      ],
      "metadata": {
        "colab": {
          "base_uri": "https://localhost:8080/"
        },
        "id": "5QreDpCL6Pql",
        "outputId": "95a7e73c-0f34-4804-c40c-afa87f16ef9b"
      },
      "execution_count": 17,
      "outputs": [
        {
          "output_type": "execute_result",
          "data": {
            "text/plain": [
              "126.22999999999999"
            ]
          },
          "metadata": {},
          "execution_count": 17
        }
      ]
    },
    {
      "cell_type": "code",
      "source": [
        "# @title Câu hỏi 15\n",
        "!gdown 1iA0WmVfW88HyJvTBSQDI5vesf-pgKabq\n",
        "\n",
        "df = pd.read_csv('/content/advertising.csv')\n",
        "\n",
        "data = df.to_numpy()\n",
        "data_sale = data[:, 3]\n",
        "print(np.max(data_sale))\n",
        "print(np.argmax(data_sale))"
      ],
      "metadata": {
        "colab": {
          "base_uri": "https://localhost:8080/"
        },
        "id": "pw3IN1fL3hXZ",
        "outputId": "9c085d92-5975-4a7f-da9d-10bc9900700e"
      },
      "execution_count": 27,
      "outputs": [
        {
          "output_type": "stream",
          "name": "stdout",
          "text": [
            "Downloading...\n",
            "From: https://drive.google.com/uc?id=1iA0WmVfW88HyJvTBSQDI5vesf-pgKabq\n",
            "To: /content/advertising.csv\n",
            "\r  0% 0.00/4.06k [00:00<?, ?B/s]\r100% 4.06k/4.06k [00:00<00:00, 9.20MB/s]\n",
            "27.0\n",
            "175\n"
          ]
        }
      ]
    },
    {
      "cell_type": "code",
      "source": [
        "# @title Câu hỏi 16\n",
        "\n",
        "tv_mean = data[:, 0].mean()\n",
        "print(tv_mean)"
      ],
      "metadata": {
        "colab": {
          "base_uri": "https://localhost:8080/"
        },
        "id": "aosELVi59Ap4",
        "outputId": "06e31d78-6a3c-41d1-dc75-694eb1ddfd6c"
      },
      "execution_count": 30,
      "outputs": [
        {
          "output_type": "stream",
          "name": "stdout",
          "text": [
            "147.0425\n"
          ]
        }
      ]
    },
    {
      "cell_type": "code",
      "source": [
        "# @title Câu hỏi 17\n",
        "\n",
        "sale_counter = np.sum(data_sale >= 20)\n",
        "sale_counter"
      ],
      "metadata": {
        "colab": {
          "base_uri": "https://localhost:8080/"
        },
        "id": "wy1bTdFH9wX2",
        "outputId": "88b53210-9823-4027-a230-18a6915113f5"
      },
      "execution_count": 33,
      "outputs": [
        {
          "output_type": "execute_result",
          "data": {
            "text/plain": [
              "40"
            ]
          },
          "metadata": {},
          "execution_count": 33
        }
      ]
    },
    {
      "cell_type": "code",
      "source": [
        "# @title Câu hỏi 18\n",
        "\n",
        "sale_cond = data[:, 3] >= 15\n",
        "radio_data = data[:, 1]\n",
        "radio_cond = radio_data * sale_cond\n",
        "average = np.sum(radio_cond)/np.sum(sale_cond)\n",
        "average\n",
        "\n"
      ],
      "metadata": {
        "colab": {
          "base_uri": "https://localhost:8080/"
        },
        "id": "aiIXOFgg_By5",
        "outputId": "4ffc14b4-d487-4414-8063-c668af3bccfd"
      },
      "execution_count": 35,
      "outputs": [
        {
          "output_type": "execute_result",
          "data": {
            "text/plain": [
              "26.222935779816517"
            ]
          },
          "metadata": {},
          "execution_count": 35
        }
      ]
    },
    {
      "cell_type": "code",
      "source": [
        "# @title Câu hỏi 19\n",
        "\n",
        "average_newspaper = data[:,2].mean()\n",
        "newspaper_cond = data[:,2] > average_newspaper\n",
        "sale_cond = data[0,3] * newspaper_cond\n",
        "sum_cond = np.sum(sale_cond)\n",
        "sum_cond\n"
      ],
      "metadata": {
        "colab": {
          "base_uri": "https://localhost:8080/"
        },
        "id": "x2ep7DWn_5Ug",
        "outputId": "675d64b2-fa64-4c58-e9d7-78da1f7a7ce7"
      },
      "execution_count": 37,
      "outputs": [
        {
          "output_type": "execute_result",
          "data": {
            "text/plain": [
              "1944.7999999999997"
            ]
          },
          "metadata": {},
          "execution_count": 37
        }
      ]
    },
    {
      "cell_type": "code",
      "source": [
        "# @title Câu hỏi 20\n",
        "\n",
        "data_sale = data[:,3]\n",
        "sale_mean = data_sale.mean()\n",
        "data_sale  = data_sale[7:10]\n",
        "new_arr  = np.where(data_sale > sale_mean, 'Good', np.where(data_sale < sale_mean, \"Bad\", \"Average\") )\n",
        "new_arr"
      ],
      "metadata": {
        "colab": {
          "base_uri": "https://localhost:8080/"
        },
        "id": "WSJMBSGXCCG3",
        "outputId": "6d614e0d-4dec-43b2-9ab3-13729b992726"
      },
      "execution_count": 38,
      "outputs": [
        {
          "output_type": "execute_result",
          "data": {
            "text/plain": [
              "array(['Bad', 'Bad', 'Good'], dtype='<U7')"
            ]
          },
          "metadata": {},
          "execution_count": 38
        }
      ]
    },
    {
      "cell_type": "code",
      "source": [
        "# @title Câu hỏi 21\n",
        "\n",
        "data_sale = data[:,3]\n",
        "sale_mean = data_sale.mean()\n",
        "sub_abs = np.abs(data_sale - sale_mean)\n",
        "a = np.min(abs)\n",
        "print(a)\n",
        "score = data_sale[7:10]\n",
        "score_result = np.where(score > a, \"Good\", np.where(score < a, \"Bad\", \"Average\"))\n",
        "score_result\n"
      ],
      "metadata": {
        "colab": {
          "base_uri": "https://localhost:8080/"
        },
        "id": "e1hOYcDWESgV",
        "outputId": "e5606565-28f1-4cfe-d5f1-96439d485bf2"
      },
      "execution_count": 49,
      "outputs": [
        {
          "output_type": "stream",
          "name": "stdout",
          "text": [
            "0.0694999999999979\n"
          ]
        },
        {
          "output_type": "execute_result",
          "data": {
            "text/plain": [
              "array(['Good', 'Good', 'Good'], dtype='<U7')"
            ]
          },
          "metadata": {},
          "execution_count": 49
        }
      ]
    }
  ]
}