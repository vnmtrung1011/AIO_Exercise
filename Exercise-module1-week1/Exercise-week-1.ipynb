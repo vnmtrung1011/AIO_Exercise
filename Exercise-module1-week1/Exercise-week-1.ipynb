{
  "cells": [
    {
      "cell_type": "code",
      "execution_count": 2,
      "metadata": {
        "colab": {
          "base_uri": "https://localhost:8080/"
        },
        "id": "qTk5GIlyiJOm",
        "outputId": "408d182d-1ecd-4668-fdba-89435be109e7"
      },
      "outputs": [
        {
          "name": "stdout",
          "output_type": "stream",
          "text": [
            "precision is 0.4\n",
            "recall is 0.3333333333333333\n",
            "f1-score is 0.3636363636363636\n"
          ]
        }
      ],
      "source": [
        "# 1. Viết function thực hiện đánh giá classification model bằng F1-Score.\n",
        "def f1_score(tp, fp, fn):\n",
        "  if not isinstance(tp, int):\n",
        "    print(\"fn must be int\")\n",
        "    return\n",
        "  if not isinstance(fp, int):\n",
        "    print(\"fn must be int\")\n",
        "    return\n",
        "  if not isinstance(fn, int):\n",
        "    print(\"fn must be int\")\n",
        "    return\n",
        "\n",
        "  if tp <= 0 and fp <= 0 and fn <=0:\n",
        "    print(\"tp and fp and fn must be greater than zero\")\n",
        "    return\n",
        "\n",
        "  precision = tp/(tp+fp)\n",
        "  recall = tp/(tp+fn)\n",
        "  f1_score = (2* (precision * recall))/(precision + recall)\n",
        "  print(f'''precision is {precision}\n",
        "recall is {recall}\n",
        "f1-score is {f1_score}''')\n",
        "\n",
        "f1_score(tp =2 , fp =3 , fn =4)\n",
        "\n",
        "\n",
        "\n"
      ]
    },
    {
      "cell_type": "code",
      "execution_count": null,
      "metadata": {
        "id": "edSBMXV60zJn"
      },
      "outputs": [],
      "source": [
        "# 2. Viết function mô phỏng theo 3 activation function.\n",
        "import math\n",
        "\n",
        "x = input('Input x : ')\n",
        "activation_function = input('Input activation Function (sigmoid | relu | elu): ')\n",
        "\n",
        "def is_number(n):\n",
        "    try:\n",
        "        float(n)\n",
        "        return True\n",
        "    except ValueError:\n",
        "        return False\n",
        "\n",
        "def compute_activation_function(param_x, param_activation_function):\n",
        "    if not is_number(param_x):\n",
        "        print('x must be a number')\n",
        "        return\n",
        "    param_x = float(param_x)  # Chuyển đổi giá trị x sang kiểu số\n",
        "    alpha = 0.01\n",
        "    result = {\n",
        "        'sigmoid': lambda x: 1 / (1 + math.exp(-x)),\n",
        "        'relu': lambda x: max(0, x),\n",
        "        'elu': lambda x, alpha_value = alpha: alpha_value * (math.exp(x) - 1) if x <= 0 else x,\n",
        "    }.get(param_activation_function, lambda x,beee=alpha: f'{param_activation_function} is not supported')(param_x)\n",
        "    print(f\"{param_activation_function}: f({param_x}) = {result}\")\n",
        "\n",
        "compute_activation_function(x, activation_function)"
      ]
    },
    {
      "cell_type": "code",
      "execution_count": 1,
      "metadata": {
        "colab": {
          "base_uri": "https://localhost:8080/"
        },
        "id": "vCStjcdP8uJT",
        "outputId": "0ef5ab3a-1d91-4a01-fc77-b86d625725e6"
      },
      "outputs": [
        {
          "name": "stdout",
          "output_type": "stream",
          "text": [
            "Input number of samples ( integer number ) which are generated : 2\n",
            "Input loss name : MAE\n",
            "loss name : MAE, sample : 0, pred : 5.510273828257544, target: 7.445608853081874, loss : 1.9353350248243295\n",
            "loss name : MAE, sample : 1, pred : 7.699915455156557, target: 0.7492451368462305, loss : 6.950670318310326\n"
          ]
        }
      ],
      "source": [
        "# 3. Viết function lựa chọn regression loss function để tính loss:\n",
        "import random\n",
        "import math\n",
        "\n",
        "sample = input(\"Input number of samples ( integer number ) which are generated : \")\n",
        "loss_name = input(\"Input loss name : \")\n",
        "\n",
        "def regression_loss(sample, loss_name):\n",
        "  if not sample.isnumeric():\n",
        "    print('’number of samples must be an integer number')\n",
        "    return\n",
        "\n",
        "  sample = int(sample)\n",
        "  for i in range(sample):\n",
        "    predict = random.uniform(0.0,10.0)\n",
        "    target = random.uniform(0.0,10.0)\n",
        "\n",
        "    result = 0.0\n",
        "    if loss_name == 'MAE':\n",
        "      result = sum(abs(target - predict)/sample for _ in range(sample))\n",
        "    elif loss_name == 'MSE':\n",
        "      result = sum(pow((target - predict),2)/sample for _ in range(sample))\n",
        "    elif loss_name == 'RMSE':\n",
        "      result = math.sqrt(sum(pow((target - predict),2)/sample for _ in range(sample)))\n",
        "    print(f\"loss name : {loss_name}, sample : {i}, pred : {predict}, target: {target}, loss : {result}\")\n",
        "\n",
        "\n",
        "regression_loss(sample, loss_name)"
      ]
    },
    {
      "cell_type": "code",
      "execution_count": 19,
      "metadata": {
        "colab": {
          "base_uri": "https://localhost:8080/"
        },
        "id": "tbcPj99u4TwX",
        "outputId": "92e91f7b-e141-414f-9c46-ed1632b0d321"
      },
      "outputs": [
        {
          "name": "stdout",
          "output_type": "stream",
          "text": [
            "Input x : 3.14\n",
            "Input n : 10\n",
            "approx_sin ( x = 3.14 , n = 10): 0.0015926529267151343\n",
            "approx_cos ( x = 3.14 , n = 10): -0.9999987316527259\n",
            "approx_sinh ( x = 3.14 , n = 10): 11.53029203039954\n",
            "approx_cosh ( x = 3.14 , n = 10): 11.573574828234543\n"
          ]
        }
      ],
      "source": [
        "# 4. Viết 4 functions để ước lượng các hàm số sau.\n",
        "import math\n",
        "\n",
        "x = input('Input x : ')\n",
        "n = input('Input n : ')\n",
        "\n",
        "def exercise4(x,n):\n",
        "  if not n.isnumeric() or int(n) < 0:\n",
        "    print('n is int and n > 0')\n",
        "    return\n",
        "  n = int(n)\n",
        "  x = float(x)\n",
        "  print(f'approx_sin ( x = {x} , n = {n}): {approx_sin(x,n)}')\n",
        "  print(f'approx_cos ( x = {x} , n = {n}): {approx_cos(x,n)}')\n",
        "  print(f'approx_sinh ( x = {x} , n = {n}): {approx_sinh(x,n)}')\n",
        "  print(f'approx_cosh ( x = {x} , n = {n}): {approx_cosh(x,n)}')\n",
        "\n",
        "exercise4(x,n)\n",
        "def factorial_iterative(n):\n",
        "  result = 1\n",
        "  for i in range(1, n+1):\n",
        "    result *= i\n",
        "  return result\n",
        "\n",
        "def approx_sin(x,n):\n",
        "  sin = 0\n",
        "  for i in range(n+1):\n",
        "    sin += pow(-1, i) * (pow(x, 2*i + 1)/factorial_iterative(2*i + 1))\n",
        "  return sin\n",
        "\n",
        "def approx_cos(x,n):\n",
        "  cos = 0\n",
        "  for i in range(n+1):\n",
        "    cos += pow(-1, i) * (pow(x, 2*i)/factorial_iterative(2*i))\n",
        "  return cos\n",
        "\n",
        "def approx_sinh(x,n):\n",
        "  sinh = 0\n",
        "  for i in range(n+1):\n",
        "    sinh += (pow(x, 2*i + 1)/factorial_iterative(2*i + 1))\n",
        "  return sinh\n",
        "\n",
        "def approx_cosh(x,n):\n",
        "  cosh = 0\n",
        "  for i in range(n+1):\n",
        "    cosh += pow(x, 2*i)/factorial_iterative(2*i)\n",
        "  return cosh"
      ]
    },
    {
      "cell_type": "code",
      "execution_count": 23,
      "metadata": {
        "colab": {
          "base_uri": "https://localhost:8080/"
        },
        "id": "_f52fbdhzobu",
        "outputId": "683d9034-702c-4333-ca50-d6d871160c2e"
      },
      "outputs": [
        {
          "name": "stdout",
          "output_type": "stream",
          "text": [
            "Input y : 100\n",
            "Input y_hat : 99.5\n",
            "Input n : 2\n",
            "Input p : 1\n",
            "md_nre_single_sample (y = 100.0, y_hat = 99.5, n = 2.0, p = 1.0): \n",
            ">>>>>0.025031328369998107\n"
          ]
        }
      ],
      "source": [
        "# 5. Viết function thực hiện Mean Difference of nth Root Error:\n",
        "import math\n",
        "\n",
        "y = input('Input y : ')\n",
        "y_hat = input('Input y_hat : ')\n",
        "n = input('Input n : ')\n",
        "p = input('Input p : ')\n",
        "\n",
        "y = float(y)\n",
        "y_hat = float(y_hat)\n",
        "n = float(n)\n",
        "p = float(p)\n",
        "\n",
        "def md_nre_single_sample(y, y_hat, n, p):\n",
        "  y = y ** (1/n)\n",
        "  y_hat = y_hat ** (1/n)\n",
        "  result = (y - y_hat)** p\n",
        "  return result\n",
        "\n",
        "print(f'md_nre_single_sample (y = {y}, y_hat = {y_hat}, n = {n}, p = {p}): \\n>>>>>{md_nre_single_sample(y, y_hat, n, p)}')"
      ]
    }
  ],
  "metadata": {
    "colab": {
      "provenance": []
    },
    "kernelspec": {
      "display_name": "Python 3",
      "name": "python3"
    },
    "language_info": {
      "name": "python",
      "version": "3.12.2"
    }
  },
  "nbformat": 4,
  "nbformat_minor": 0
}
